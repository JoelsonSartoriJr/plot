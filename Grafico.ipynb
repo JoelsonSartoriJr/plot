{
 "cells": [
  {
   "cell_type": "code",
   "execution_count": 1,
   "metadata": {},
   "outputs": [],
   "source": [
    "import numpy as np\n",
    "import matplotlib.pyplot as plt\n",
    "import matplotlib.colors as colors\n",
    "from scipy import signal\n",
    "import astropy\n",
    "from datetime import datetime\n",
    "import pandas as pd\n",
    "from matplotlib import gridspec\n"
   ]
  },
  {
   "cell_type": "code",
   "execution_count": 2,
   "metadata": {},
   "outputs": [],
   "source": [
    "from astropy.time import TimeISO\n",
    "\n",
    "class TimeYearDayTimeCustom(TimeISO):\n",
    "   \"\"\"\n",
    "   Year, day-of-year and time as \"<YYYY>-<DOY>T<HH>:<MM>:<SS.sss...>\".\n",
    "   The day-of-year (DOY) goes from 001 to 365 (366 in leap years).\n",
    "   For example, 2000-001T00:00:00.000 is midnight on January 1, 2000.\n",
    "   The allowed subformats are:\n",
    "   - 'date_hms': date + hours, mins, secs (and optional fractional secs)\n",
    "   - 'date_hm': date + hours, mins\n",
    "   - 'date': date\n",
    "   \"\"\"\n",
    "   name = 'yday_custom'  # Unique format name\n",
    "   subfmts = (('date_hms',\n",
    "               '%Y-%jT%H:%M:%S',\n",
    "               '{year:d}-{yday:03d}T{hour:02d}:{min:02d}:{sec:02d}'),\n",
    "              ('date_hm',\n",
    "               '%Y-%jT%H:%M',\n",
    "               '{year:d}-{yday:03d}T{hour:02d}:{min:02d}'),\n",
    "              ('date',\n",
    "               '%Y-%j',\n",
    "               '{year:d}-{yday:03d}'))"
   ]
  },
  {
   "cell_type": "code",
   "execution_count": 112,
   "metadata": {},
   "outputs": [],
   "source": [
    "def grafico(arquivo):\n",
    "    t = pd.read_csv(arquivo, delimiter=\" \", header=None)\n",
    "    \n",
    "    z = []\n",
    "    for i in t[0]:\n",
    "        t1 = astropy.time.Time(i)\n",
    "        z.append(t1.iso)\n",
    "    \n",
    "    n =[]\n",
    "    for i in z:\n",
    "        datetime_object = datetime.strptime(i, '%Y-%m-%d %H:%M:%S.%f')\n",
    "        n.append(datetime_object)\n",
    "        \n",
    "    zzz = []\n",
    "    for i in n:\n",
    "        a = \"{:02d}:{:02d}:{:02d}\".format(i.hour,i.minute,i.second)\n",
    "        zzz.append(a)\n",
    "    \n",
    "    x = zzz\n",
    "    y = t[:][1]\n",
    "    miix = 0\n",
    "    maax = len(x)\n",
    "    miiy = np.min(y)\n",
    "    maay = np.max(y)\n",
    "\n",
    "    return x,y,miix,maax,miiy,maay"
   ]
  },
  {
   "cell_type": "code",
   "execution_count": 113,
   "metadata": {},
   "outputs": [],
   "source": [
    "AIS_4976 = grafico(\"MEX_AIS_4976_params.dat\")\n",
    "AIS_4977 = grafico(\"MEX_AIS_4977_params.dat\")\n",
    "AIS_4978 = grafico(\"MEX_AIS_4978_params.dat\")\n",
    "AIS_4979 = grafico(\"MEX_AIS_4979_params.dat\")\n",
    "AIS_4980 = grafico(\"MEX_AIS_4980_params.dat\")\n",
    "AIS_4981 = grafico(\"MEX_AIS_4981_params.dat\")\n",
    "AIS_4982 = grafico(\"MEX_AIS_4982_params.dat\")\n",
    "AIS_4985 = grafico(\"MEX_AIS_4985_params.dat\")\n",
    "AIS_4988 = grafico(\"MEX_AIS_4988_params.dat\")\n",
    "AIS_4989 = grafico(\"MEX_AIS_4989_params.dat\")\n",
    "AIS_4991 = grafico(\"MEX_AIS_4991_params.dat\")\n",
    "AIS_4992 = grafico(\"MEX_AIS_4992_params.dat\")\n",
    "AIS_4993 = grafico(\"MEX_AIS_4993_params.dat\")\n",
    "AIS_4994 = grafico(\"MEX_AIS_4994_params.dat\")\n",
    "AIS_4995 = grafico(\"MEX_AIS_4995_params.dat\")\n",
    "AIS_4996 = grafico(\"MEX_AIS_4996_params.dat\")\n",
    "AIS_4997 = grafico(\"MEX_AIS_4997_params.dat\")\n",
    "AIS_4998 = grafico(\"MEX_AIS_4998_params.dat\")\n",
    "AIS_4999 = grafico(\"MEX_AIS_4999_params.dat\")\n",
    "AIS_5001 = grafico(\"MEX_AIS_5001_params.dat\")\n",
    "AIS_5002 = grafico(\"MEX_AIS_5002_params.dat\")\n",
    "AIS_5003 = grafico(\"MEX_AIS_5003_params.dat\")\n",
    "AIS_5004 = grafico(\"MEX_AIS_5004_params.dat\")"
   ]
  },
  {
   "cell_type": "code",
   "execution_count": 124,
   "metadata": {},
   "outputs": [
    {
     "data": {
      "image/png": "[encoded data removed]",
      "text/plain": [
       "<Figure size 432x288 with 2 Axes>"
      ]
     },
     "metadata": {
      "needs_background": "light"
     },
     "output_type": "display_data"
    }
   ],
   "source": [
    "plt.subplot(2, 1, 1)\n",
    "plt.plot(AIS_4976[0], AIS_4976[1])\n",
    "plt.xticks(np.arange(AIS_4976[2], AIS_4976[3], 15))\n",
    "plt.title('A tale of 2 subplots')\n",
    "plt.ylabel('Damped oscillation')\n",
    "\n",
    "plt.subplot(2, 1, 2)\n",
    "plt.plot(AIS_4977[0], AIS_4977[1])\n",
    "plt.xticks(np.arange(AIS_4977[2], AIS_4977[3], 8))\n",
    "plt.xlabel('time (s)')\n",
    "plt.ylabel('Undamped')\n",
    "\n",
    "plt.savefig(\"teste\")\n",
    "plt.show()"
   ]
  },
  {
   "cell_type": "code",
   "execution_count": null,
   "metadata": {},
   "outputs": [],
   "source": []
  }
 ],
 "metadata": {
  "kernelspec": {
   "display_name": "Python 3",
   "language": "python",
   "name": "python3"
  },
  "language_info": {
   "codemirror_mode": {
    "name": "ipython",
    "version": 3
   },
   "file_extension": ".py",
   "mimetype": "text/x-python",
   "name": "python",
   "nbconvert_exporter": "python",
   "pygments_lexer": "ipython3",
   "version": "3.7.1"
  }
 },
 "nbformat": 4,
 "nbformat_minor": 2
}
